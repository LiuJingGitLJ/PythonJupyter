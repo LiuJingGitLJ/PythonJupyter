{
 "cells": [
  {
   "cell_type": "code",
   "execution_count": 1,
   "metadata": {},
   "outputs": [],
   "source": [
    "import numpy as np\n",
    "import pandas as pd"
   ]
  },
  {
   "cell_type": "code",
   "execution_count": 9,
   "metadata": {},
   "outputs": [],
   "source": [
    "#因为你的输入数据列有混合类型，而PANDAS默认要找到可以使所占用空间最小的类型来储存你的数据。\n",
    "#low_memory设置为false之后，pandas就不进行寻找，直接采用较大的数据类型来储存。\n",
    "train_data = pd.read_csv('input/RejectStatsA.csv',low_memory=False)\n",
    "loan_data = pd.read_csv('input/LoanStats3a.csv',low_memory=False)"
   ]
  },
  {
   "cell_type": "code",
   "execution_count": 10,
   "metadata": {},
   "outputs": [
    {
     "data": {
      "text/html": [
       "<div>\n",
       "<style scoped>\n",
       "    .dataframe tbody tr th:only-of-type {\n",
       "        vertical-align: middle;\n",
       "    }\n",
       "\n",
       "    .dataframe tbody tr th {\n",
       "        vertical-align: top;\n",
       "    }\n",
       "\n",
       "    .dataframe thead th {\n",
       "        text-align: right;\n",
       "    }\n",
       "</style>\n",
       "<table border=\"1\" class=\"dataframe\">\n",
       "  <thead>\n",
       "    <tr style=\"text-align: right;\">\n",
       "      <th></th>\n",
       "      <th></th>\n",
       "      <th></th>\n",
       "      <th></th>\n",
       "      <th></th>\n",
       "      <th></th>\n",
       "      <th></th>\n",
       "      <th></th>\n",
       "      <th>Notes offered by Prospectus (https://www.lendingclub.com/info/prospectus.action)</th>\n",
       "    </tr>\n",
       "  </thead>\n",
       "  <tbody>\n",
       "    <tr>\n",
       "      <th>Amount Requested</th>\n",
       "      <th>Application Date</th>\n",
       "      <th>Loan Title</th>\n",
       "      <th>Risk_Score</th>\n",
       "      <th>Debt-To-Income Ratio</th>\n",
       "      <th>Zip Code</th>\n",
       "      <th>State</th>\n",
       "      <th>Employment Length</th>\n",
       "      <td>Policy Code</td>\n",
       "    </tr>\n",
       "    <tr>\n",
       "      <th rowspan=\"2\" valign=\"top\">1000.00</th>\n",
       "      <th rowspan=\"2\" valign=\"top\">2007-05-26</th>\n",
       "      <th>Wedding Covered but No Honeymoon</th>\n",
       "      <th>693</th>\n",
       "      <th>10%</th>\n",
       "      <th>481xx</th>\n",
       "      <th>NM</th>\n",
       "      <th>4 years</th>\n",
       "      <td>0</td>\n",
       "    </tr>\n",
       "    <tr>\n",
       "      <th>Consolidating Debt</th>\n",
       "      <th>703</th>\n",
       "      <th>10%</th>\n",
       "      <th>010xx</th>\n",
       "      <th>MA</th>\n",
       "      <th>&lt; 1 year</th>\n",
       "      <td>0</td>\n",
       "    </tr>\n",
       "    <tr>\n",
       "      <th>11000.00</th>\n",
       "      <th>2007-05-27</th>\n",
       "      <th>Want to consolidate my debt</th>\n",
       "      <th>715</th>\n",
       "      <th>10%</th>\n",
       "      <th>212xx</th>\n",
       "      <th>MD</th>\n",
       "      <th>1 year</th>\n",
       "      <td>0</td>\n",
       "    </tr>\n",
       "    <tr>\n",
       "      <th>6000.00</th>\n",
       "      <th>2007-05-27</th>\n",
       "      <th>waksman</th>\n",
       "      <th>698</th>\n",
       "      <th>38.64%</th>\n",
       "      <th>017xx</th>\n",
       "      <th>MA</th>\n",
       "      <th>&lt; 1 year</th>\n",
       "      <td>0</td>\n",
       "    </tr>\n",
       "  </tbody>\n",
       "</table>\n",
       "</div>"
      ],
      "text/plain": [
       "                                                                                                                                    Notes offered by Prospectus (https://www.lendingclub.com/info/prospectus.action)\n",
       "Amount Requested Application Date Loan Title                       Risk_Score Debt-To-Income Ratio Zip Code State Employment Length                                        Policy Code                              \n",
       "1000.00          2007-05-26       Wedding Covered but No Honeymoon 693        10%                  481xx    NM    4 years                                                            0                              \n",
       "                                  Consolidating Debt               703        10%                  010xx    MA    < 1 year                                                           0                              \n",
       "11000.00         2007-05-27       Want to consolidate my debt      715        10%                  212xx    MD    1 year                                                             0                              \n",
       "6000.00          2007-05-27       waksman                          698        38.64%               017xx    MA    < 1 year                                                           0                              "
      ]
     },
     "execution_count": 10,
     "metadata": {},
     "output_type": "execute_result"
    }
   ],
   "source": [
    "train_data.head()"
   ]
  },
  {
   "cell_type": "code",
   "execution_count": 21,
   "metadata": {},
   "outputs": [
    {
     "name": "stdout",
     "output_type": "stream",
     "text": [
      "Notes offered by Prospectus (https://www.lendingclub.com/info/prospectus.action)    0.996215\n",
      "dtype: float64\n"
     ]
    }
   ],
   "source": [
    "# loan_data.head()\n",
    "print(loan_data.isnull().sum(axis=0).sort_values(ascending=False)/float(len(loan_data)))"
   ]
  },
  {
   "cell_type": "code",
   "execution_count": null,
   "metadata": {},
   "outputs": [],
   "source": []
  }
 ],
 "metadata": {
  "kernelspec": {
   "display_name": "Python 3",
   "language": "python",
   "name": "python3"
  },
  "language_info": {
   "codemirror_mode": {
    "name": "ipython",
    "version": 3
   },
   "file_extension": ".py",
   "mimetype": "text/x-python",
   "name": "python",
   "nbconvert_exporter": "python",
   "pygments_lexer": "ipython3",
   "version": "3.6.4"
  }
 },
 "nbformat": 4,
 "nbformat_minor": 2
}
