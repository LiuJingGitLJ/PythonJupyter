{
 "cells": [
  {
   "cell_type": "code",
   "execution_count": 1,
   "metadata": {},
   "outputs": [],
   "source": [
    "import pandas as pd"
   ]
  },
  {
   "cell_type": "code",
   "execution_count": 55,
   "metadata": {},
   "outputs": [
    {
     "name": "stdout",
     "output_type": "stream",
     "text": [
      "     c   d   e\n",
      "a1   1   2   3\n",
      "a2   4   5   6\n",
      "a3   7   8   9\n",
      "a4  10  11  12\n",
      "a5  13  14  15\n"
     ]
    }
   ],
   "source": [
    "data=[[1,2,3],[4,5,6],[7,8,9],[10,11,12],[13,14,15]]\n",
    "index=['a1','a2','a3','a4','a5']#行号\n",
    "columns=['c','d','e']#列号\n",
    "df=pd.DataFrame(data,index=index,columns=columns)#生成一个数据框\n",
    "print(df)"
   ]
  },
  {
   "cell_type": "code",
   "execution_count": 47,
   "metadata": {},
   "outputs": [
    {
     "name": "stdout",
     "output_type": "stream",
     "text": [
      "    e\n",
      "a1  3\n",
      "a2  6\n"
     ]
    }
   ],
   "source": [
    " print(df.iloc[0:2,[2]])"
   ]
  },
  {
   "cell_type": "code",
   "execution_count": 61,
   "metadata": {},
   "outputs": [
    {
     "name": "stdout",
     "output_type": "stream",
     "text": [
      "     c\n",
      "a1   1\n",
      "a2   4\n",
      "a3   7\n",
      "a4  10\n",
      "a5  13\n"
     ]
    }
   ],
   "source": [
    "print(df.loc[:,['c']])"
   ]
  }
 ],
 "metadata": {
  "kernelspec": {
   "display_name": "Python 3",
   "language": "python",
   "name": "python3"
  },
  "language_info": {
   "codemirror_mode": {
    "name": "ipython",
    "version": 3
   },
   "file_extension": ".py",
   "mimetype": "text/x-python",
   "name": "python",
   "nbconvert_exporter": "python",
   "pygments_lexer": "ipython3",
   "version": "3.6.4"
  }
 },
 "nbformat": 4,
 "nbformat_minor": 2
}
