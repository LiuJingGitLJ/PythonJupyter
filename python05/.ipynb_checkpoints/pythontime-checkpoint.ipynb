{
 "cells": [
  {
   "cell_type": "code",
   "execution_count": 1,
   "metadata": {},
   "outputs": [],
   "source": [
    "from datetime import datetime"
   ]
  },
  {
   "cell_type": "code",
   "execution_count": 2,
   "metadata": {},
   "outputs": [
    {
     "name": "stdout",
     "output_type": "stream",
     "text": [
      "2018-05-30 09:30:43.773576\n",
      "<class 'datetime.datetime'>\n"
     ]
    }
   ],
   "source": [
    "now = datetime.now()\n",
    "print(now)\n",
    "print(type(now))"
   ]
  },
  {
   "cell_type": "code",
   "execution_count": 3,
   "metadata": {},
   "outputs": [
    {
     "name": "stdout",
     "output_type": "stream",
     "text": [
      "年：2018，月5，日：30\n"
     ]
    }
   ],
   "source": [
    "print('年：{}，月{}，日：{}'.format(now.year, now.month, now.day))"
   ]
  },
  {
   "cell_type": "code",
   "execution_count": 4,
   "metadata": {},
   "outputs": [
    {
     "name": "stdout",
     "output_type": "stream",
     "text": [
      "14 days, 2:00:00\n",
      "<class 'datetime.timedelta'>\n",
      "经历了14天，7200秒\n"
     ]
    }
   ],
   "source": [
    "diff = datetime(2017, 3, 4, 17) - datetime(2017, 2, 18, 15)\n",
    "print(diff)\n",
    "print(type(diff))\n",
    "print('经历了{}天，{}秒'.format(diff.days, diff.seconds))"
   ]
  },
  {
   "cell_type": "code",
   "execution_count": 5,
   "metadata": {},
   "outputs": [
    {
     "name": "stdout",
     "output_type": "stream",
     "text": [
      "<class 'datetime.datetime'>\n",
      "2017-03-04 00:00:00\n",
      "<class 'str'>\n",
      "2017-03-04 00:00:00\n",
      "17-03-04\n"
     ]
    }
   ],
   "source": [
    "# datetime->str\n",
    "\n",
    "'''\n",
    "字符串和Datetime转换\n",
    "datetime->str\n",
    "str(datetime_obj)\n",
    "datetime.strftime()\n",
    "\n",
    "'''\n",
    "#日期格式\n",
    "dt_obj = datetime(2017, 3, 4)\n",
    "print(type(dt_obj))\n",
    "print(dt_obj)\n",
    "#日期转换为字符串格式\n",
    "str_obj = str(dt_obj)\n",
    "print(type(str_obj))\n",
    "print(str_obj)\n",
    "\n",
    "str_obj2 = dt_obj.strftime('%y-%m-%d')\n",
    "print(str_obj2)"
   ]
  },
  {
   "cell_type": "code",
   "execution_count": 6,
   "metadata": {},
   "outputs": [
    {
     "name": "stdout",
     "output_type": "stream",
     "text": [
      "<class 'datetime.datetime'>\n",
      "2017-02-18 00:00:00\n"
     ]
    }
   ],
   "source": [
    "'''\n",
    "str->datetime\n",
    "datetime.strptime()需要指定时间表示的形式\n",
    "dateutil.parser.parse()可以解析大部分时间表示形式\n",
    "pd.to_datetime() 可以处理缺失值和空字符串\n",
    "'''\n",
    "dt_str = '2017-02-18'\n",
    "dt_obj2 = datetime.strptime(dt_str,'%Y-%m-%d')\n",
    "print(type(dt_obj2))\n",
    "print(dt_obj2)"
   ]
  },
  {
   "cell_type": "code",
   "execution_count": 7,
   "metadata": {},
   "outputs": [
    {
     "name": "stdout",
     "output_type": "stream",
     "text": [
      "<class 'datetime.datetime'>\n",
      "2017-12-02 00:00:00\n"
     ]
    }
   ],
   "source": [
    "from dateutil.parser import parse\n",
    "dt_str2 = '2017-12-02'\n",
    "dt_obj3 = parse(dt_str2)\n",
    "print(type(dt_obj3))\n",
    "print(dt_obj3)"
   ]
  },
  {
   "cell_type": "code",
   "execution_count": 8,
   "metadata": {},
   "outputs": [
    {
     "name": "stdout",
     "output_type": "stream",
     "text": [
      "0    2017/02/18\n",
      "1    2017/02/19\n",
      "2    2017/02/25\n",
      "3    2017/02/26\n",
      "Name: cours_time, dtype: object\n",
      "0   2017-02-18\n",
      "1   2017-02-19\n",
      "2   2017-02-25\n",
      "3   2017-02-26\n",
      "Name: cours_time, dtype: datetime64[ns]\n"
     ]
    }
   ],
   "source": [
    "'''\n",
    "pd.to_datetime() 可以处理缺失值和空字符串\n",
    "'''\n",
    "import pandas as pd\n",
    "s_obj = pd.Series(['2017/02/18', '2017/02/19','2017/02/25', '2017/02/26'], name='cours_time')\n",
    "print(s_obj)\n",
    "s_obj2 = pd.to_datetime(s_obj)\n",
    "print(s_obj2)"
   ]
  },
  {
   "cell_type": "code",
   "execution_count": 9,
   "metadata": {},
   "outputs": [
    {
     "name": "stdout",
     "output_type": "stream",
     "text": [
      "0    2017/02/18\n",
      "1    2017/02/19\n",
      "2    2017/02/25\n",
      "3    2017/02/26\n",
      "4              \n",
      "5          None\n",
      "6          None\n",
      "Name: course_time, dtype: object\n",
      "0   2017-02-18\n",
      "1   2017-02-19\n",
      "2   2017-02-25\n",
      "3   2017-02-26\n",
      "4          NaT\n",
      "5          NaT\n",
      "6          NaT\n",
      "Name: course_time, dtype: datetime64[ns]\n"
     ]
    }
   ],
   "source": [
    "#处理缺失值\n",
    "s_obj3 = pd.Series(['2017/02/18', '2017/02/19', '2017/02/25','2017/02/26','']+[None]+[None], \n",
    "                   name='course_time')\n",
    "print(s_obj3)\n",
    "s_obj4 = pd.to_datetime(s_obj3)\n",
    "print(s_obj4)"
   ]
  },
  {
   "cell_type": "code",
   "execution_count": 10,
   "metadata": {},
   "outputs": [
    {
     "name": "stdout",
     "output_type": "stream",
     "text": [
      "2017-02-18   -0.782140\n",
      "2017-02-19    0.500642\n",
      "2017-02-25    0.742458\n",
      "2017-02-26    2.259753\n",
      "2017-03-04   -0.530756\n",
      "2017-03-05   -0.584432\n",
      "dtype: float64\n",
      "<class 'pandas.core.indexes.datetimes.DatetimeIndex'>\n"
     ]
    }
   ],
   "source": [
    "'''\n",
    "基本类型 以时间戳为索引的Series ->DatetimeIndex\n",
    "创建：\n",
    "指定index为datetime的list\n",
    "pd.date_range()\n",
    "生成时间序列，运算符合按索引对齐，按照相同索引的位置进行运算\n",
    "\n",
    "把索引设置为时间类型\n",
    "\n",
    "'''\n",
    "from datetime import datetime\n",
    "import pandas as pd\n",
    "import numpy as np\n",
    "#指定Index 为datetime的list\n",
    "date_list = [datetime(2017, 2, 18), datetime(2017, 2, 19),datetime(2017, 2, 25), \n",
    "             datetime(2017, 2, 26),datetime(2017, 3, 4), datetime(2017, 3, 5)]\n",
    "\n",
    "#np.random.randn(6) 指定6个数据\n",
    "time_s = pd.Series(np.random.randn(6), index=date_list)\n",
    "print(time_s)\n",
    "print(type(time_s.index))\n"
   ]
  },
  {
   "cell_type": "code",
   "execution_count": 11,
   "metadata": {},
   "outputs": [
    {
     "name": "stdout",
     "output_type": "stream",
     "text": [
      "DatetimeIndex(['2017-02-18', '2017-02-25', '2017-03-04', '2017-03-11',\n",
      "               '2017-03-18'],\n",
      "              dtype='datetime64[ns]', freq='W-SAT')\n",
      "2017-02-18   -2.085145\n",
      "2017-02-25   -0.361016\n",
      "2017-03-04    0.392537\n",
      "2017-03-11   -0.995443\n",
      "2017-03-18    1.569178\n",
      "Freq: W-SAT, dtype: float64\n"
     ]
    }
   ],
   "source": [
    "#pd.date_range()\n",
    "\n",
    "dates = pd.date_range('2017-02-18',#起始日期\n",
    "                      periods=5, #周期\n",
    "                      freq='W-SAT') #频率\n",
    "print(dates)\n",
    "print(pd.Series(np.random.randn(5), index=dates))"
   ]
  },
  {
   "cell_type": "code",
   "execution_count": 12,
   "metadata": {},
   "outputs": [
    {
     "name": "stdout",
     "output_type": "stream",
     "text": [
      "-0.7821396133732813\n",
      "-0.7821396133732813\n",
      "2017-02-18   -0.782140\n",
      "2017-02-19    0.500642\n",
      "2017-02-25    0.742458\n",
      "2017-02-26    2.259753\n",
      "dtype: float64\n"
     ]
    }
   ],
   "source": [
    "# 索引位置\n",
    "print(time_s[0])\n",
    "# 索引值\n",
    "print(time_s[datetime(2017, 2, 18)])\n",
    "# 按照年份 月份 进行索引\n",
    "print(time_s['2017-2'])"
   ]
  },
  {
   "cell_type": "code",
   "execution_count": 13,
   "metadata": {},
   "outputs": [
    {
     "name": "stdout",
     "output_type": "stream",
     "text": [
      "0.5006415133632097\n"
     ]
    }
   ],
   "source": [
    "#切片操作\n",
    "print(time_s['2017-2-19'])"
   ]
  },
  {
   "cell_type": "code",
   "execution_count": 14,
   "metadata": {},
   "outputs": [
    {
     "name": "stdout",
     "output_type": "stream",
     "text": [
      "0.5006415133632097\n",
      "2017-02-18   -0.782140\n",
      "2017-02-19    0.500642\n",
      "2017-02-25    0.742458\n",
      "2017-02-26    2.259753\n",
      "2017-03-04   -0.530756\n",
      "2017-03-05   -0.584432\n",
      "dtype: float64\n"
     ]
    }
   ],
   "source": [
    "#通过值进行索引\n",
    "print(time_s['2017-2-19'])\n",
    "#进行切片操作\n",
    "print(time_s['2017-02-03':])"
   ]
  },
  {
   "cell_type": "code",
   "execution_count": 15,
   "metadata": {},
   "outputs": [
    {
     "name": "stdout",
     "output_type": "stream",
     "text": [
      "-0.7821396133732813\n"
     ]
    }
   ],
   "source": [
    "#传入可以被解析的日期字符串\n",
    "print(time_s['2017/02/18'])"
   ]
  },
  {
   "cell_type": "code",
   "execution_count": 16,
   "metadata": {},
   "outputs": [
    {
     "name": "stdout",
     "output_type": "stream",
     "text": [
      "2017-02-25    0.742458\n",
      "2017-02-26    2.259753\n",
      "2017-03-04   -0.530756\n",
      "2017-03-05   -0.584432\n",
      "dtype: float64\n",
      "2017-02-18   -0.782140\n",
      "2017-02-19    0.500642\n",
      "2017-02-25    0.742458\n",
      "dtype: float64\n"
     ]
    }
   ],
   "source": [
    "#过滤\n",
    "\n",
    "#过滤掉2017-2-25前面的数据 包含当前数据 \n",
    "time_str1 = time_s.truncate(before='2017-2-25')\n",
    "print(time_str1)\n",
    "#过滤掉2017-02-25之后的数据 包含当前数据\n",
    "time_str2 = time_s.truncate(after='2017-02-25')\n",
    "print(time_str2)"
   ]
  },
  {
   "cell_type": "code",
   "execution_count": 17,
   "metadata": {},
   "outputs": [
    {
     "name": "stdout",
     "output_type": "stream",
     "text": [
      "DatetimeIndex(['2017-02-18', '2017-02-19', '2017-02-20', '2017-02-21',\n",
      "               '2017-02-22', '2017-02-23', '2017-02-24', '2017-02-25',\n",
      "               '2017-02-26', '2017-02-27', '2017-02-28', '2017-03-01',\n",
      "               '2017-03-02', '2017-03-03', '2017-03-04', '2017-03-05',\n",
      "               '2017-03-06', '2017-03-07', '2017-03-08', '2017-03-09',\n",
      "               '2017-03-10', '2017-03-11', '2017-03-12', '2017-03-13',\n",
      "               '2017-03-14', '2017-03-15', '2017-03-16', '2017-03-17',\n",
      "               '2017-03-18'],\n",
      "              dtype='datetime64[ns]', freq='D')\n"
     ]
    }
   ],
   "source": [
    "'''\n",
    "生成日期范围\n",
    "pd.date_range()\n",
    "传入开始、结束日期，默认生成的该时间段的时间点是按天计算的（频率是D）\n",
    "\n",
    "'''\n",
    "#传入开始、结束日期、默认生成的该时间段的时间点是按天计算的\n",
    "date_index = pd.date_range('2017/02/18','2017/03/18')\n",
    "print(date_index)"
   ]
  },
  {
   "cell_type": "code",
   "execution_count": 18,
   "metadata": {},
   "outputs": [
    {
     "name": "stdout",
     "output_type": "stream",
     "text": [
      "DatetimeIndex(['2017-02-18', '2017-02-19', '2017-02-20', '2017-02-21',\n",
      "               '2017-02-22', '2017-02-23', '2017-02-24', '2017-02-25',\n",
      "               '2017-02-26', '2017-02-27'],\n",
      "              dtype='datetime64[ns]', freq='D')\n"
     ]
    }
   ],
   "source": [
    "#只传入开始或结束日期，还需传入时间段\n",
    "print(pd.date_range(start='2017/02/18', periods=10))"
   ]
  },
  {
   "cell_type": "code",
   "execution_count": 19,
   "metadata": {},
   "outputs": [
    {
     "name": "stdout",
     "output_type": "stream",
     "text": [
      "DatetimeIndex(['2017-03-09', '2017-03-10', '2017-03-11', '2017-03-12',\n",
      "               '2017-03-13', '2017-03-14', '2017-03-15', '2017-03-16',\n",
      "               '2017-03-17', '2017-03-18'],\n",
      "              dtype='datetime64[ns]', freq='D')\n"
     ]
    }
   ],
   "source": [
    "#只传入结束日期 指定周期，输出结束时间之前的10天\n",
    "print(pd.date_range(end='2017/03/18', periods=10))"
   ]
  },
  {
   "cell_type": "code",
   "execution_count": 20,
   "metadata": {},
   "outputs": [
    {
     "name": "stdout",
     "output_type": "stream",
     "text": [
      "DatetimeIndex(['2017-02-18 12:13:14', '2017-02-19 12:13:14',\n",
      "               '2017-02-20 12:13:14', '2017-02-21 12:13:14',\n",
      "               '2017-02-22 12:13:14', '2017-02-23 12:13:14',\n",
      "               '2017-02-24 12:13:14', '2017-02-25 12:13:14',\n",
      "               '2017-02-26 12:13:14', '2017-02-27 12:13:14'],\n",
      "              dtype='datetime64[ns]', freq='D')\n"
     ]
    }
   ],
   "source": [
    "#规范化时间戳\n",
    "print(pd.date_range(start='2017/02/18 12:13:14',periods=10))"
   ]
  },
  {
   "cell_type": "code",
   "execution_count": 21,
   "metadata": {},
   "outputs": [
    {
     "name": "stdout",
     "output_type": "stream",
     "text": [
      "DatetimeIndex(['2017-02-18', '2017-02-22', '2017-02-26', '2017-03-02',\n",
      "               '2017-03-06', '2017-03-10', '2017-03-14', '2017-03-18',\n",
      "               '2017-03-22', '2017-03-26'],\n",
      "              dtype='datetime64[ns]', freq='4D')\n"
     ]
    }
   ],
   "source": [
    "print(pd.date_range(start='2017/02/18', periods=10, freq='4D'))"
   ]
  },
  {
   "cell_type": "code",
   "execution_count": 22,
   "metadata": {},
   "outputs": [
    {
     "name": "stdout",
     "output_type": "stream",
     "text": [
      "DatetimeIndex(['2017-02-18', '2017-02-19', '2017-02-20', '2017-02-21',\n",
      "               '2017-02-22', '2017-02-23', '2017-02-24', '2017-02-25',\n",
      "               '2017-02-26', '2017-02-27'],\n",
      "              dtype='datetime64[ns]', freq='D')\n"
     ]
    }
   ],
   "source": [
    "print(pd.date_range(start='2017/02/18 12:13:14', periods=10, normalize=True))"
   ]
  },
  {
   "cell_type": "code",
   "execution_count": 23,
   "metadata": {},
   "outputs": [
    {
     "name": "stdout",
     "output_type": "stream",
     "text": [
      "DatetimeIndex(['2017-02-18', '2017-02-22', '2017-02-26', '2017-03-02',\n",
      "               '2017-03-06', '2017-03-10', '2017-03-14', '2017-03-18',\n",
      "               '2017-03-22', '2017-03-26'],\n",
      "              dtype='datetime64[ns]', freq='4D')\n"
     ]
    }
   ],
   "source": [
    "#freq:基础频率\n",
    "\n",
    "#freq:4D 4天\n",
    "'''\n",
    "BM:每个月最后一个工作日\n",
    "D:天\n",
    "M:月\n",
    "偏移量：每个基础频率对应一个偏移量\n",
    "'''\n",
    "print(pd.date_range(start='2017/02/18', periods=10, freq='4D'))\n",
    "\n"
   ]
  },
  {
   "cell_type": "code",
   "execution_count": 24,
   "metadata": {},
   "outputs": [
    {
     "name": "stdout",
     "output_type": "stream",
     "text": [
      "14 days 12:00:00\n",
      "DatetimeIndex(['2017-02-18 00:00:00', '2017-03-04 12:00:00'], dtype='datetime64[ns]', freq='348H')\n"
     ]
    }
   ],
   "source": [
    "'''\n",
    "偏移量通过加法连接\n",
    "'''\n",
    "\n",
    "#偏移量：两周+12个小时\n",
    "sum_offset = pd.tseries.offsets.Week(2) + pd.tseries.offsets.Hour(12)\n",
    "print(sum_offset)\n",
    "\n",
    "#生成偏移量 传入date_range中freq参数\n",
    "#将整体数据间隔改变为两周\n",
    "print(pd.date_range('2017/02/18', '2017/03/18', freq=sum_offset))"
   ]
  },
  {
   "cell_type": "code",
   "execution_count": 25,
   "metadata": {},
   "outputs": [
    {
     "name": "stdout",
     "output_type": "stream",
     "text": [
      "2017-02-18    1.403645\n",
      "2017-02-25   -0.990039\n",
      "2017-03-04   -1.069984\n",
      "2017-03-11    0.389599\n",
      "2017-03-18    1.077370\n",
      "Freq: W-SAT, dtype: float64\n"
     ]
    }
   ],
   "source": [
    "'''\n",
    "移动数据：将数据沿时间轴 前移或后移，保持索引不变  \n",
    "'''\n",
    "ts = pd.Series(np.random.randn(5), index=pd.date_range('20170218',periods=5,freq='W-SAT'))\n",
    "print(ts)"
   ]
  },
  {
   "cell_type": "code",
   "execution_count": 26,
   "metadata": {},
   "outputs": [
    {
     "name": "stdout",
     "output_type": "stream",
     "text": [
      "2017-02-18   -0.990039\n",
      "2017-02-25   -1.069984\n",
      "2017-03-04    0.389599\n",
      "2017-03-11    1.077370\n",
      "2017-03-18         NaN\n",
      "Freq: W-SAT, dtype: float64\n",
      "2017-02-18         NaN\n",
      "2017-02-25    1.403645\n",
      "2017-03-04   -0.990039\n",
      "2017-03-11   -1.069984\n",
      "2017-03-18    0.389599\n",
      "Freq: W-SAT, dtype: float64\n"
     ]
    }
   ],
   "source": [
    "#数据前移\n",
    "print(ts.shift(-1))\n",
    "#数据后移\n",
    "print(ts.shift(1))"
   ]
  },
  {
   "cell_type": "code",
   "execution_count": 27,
   "metadata": {},
   "outputs": [
    {
     "data": {
      "text/plain": [
       "'\\nPeriod类 通过字符串或整数以及基础频率构造\\nPeriod对象 可以进行数学运算，但要保证具有相同的基础频率\\nperiod_range 创建指定规则的时间周期范围 生成PeriodIndex 索引\\n 可用于创建Series或DataFrame\\n 时间周期频率转换\\n asfreq\\n \\n'"
      ]
     },
     "execution_count": 27,
     "metadata": {},
     "output_type": "execute_result"
    }
   ],
   "source": [
    "'''\n",
    "Period类 通过字符串或整数以及基础频率构造\n",
    "Period对象 可以进行数学运算，但要保证具有相同的基础频率\n",
    "period_range 创建指定规则的时间周期范围 生成PeriodIndex 索引\n",
    " 可用于创建Series或DataFrame\n",
    " 时间周期频率转换\n",
    " asfreq\n",
    " \n",
    "'''\n"
   ]
  },
  {
   "cell_type": "code",
   "execution_count": null,
   "metadata": {},
   "outputs": [],
   "source": []
  }
 ],
 "metadata": {
  "kernelspec": {
   "display_name": "Python 3",
   "language": "python",
   "name": "python3"
  },
  "language_info": {
   "codemirror_mode": {
    "name": "ipython",
    "version": 3
   },
   "file_extension": ".py",
   "mimetype": "text/x-python",
   "name": "python",
   "nbconvert_exporter": "python",
   "pygments_lexer": "ipython3",
   "version": "3.6.4"
  }
 },
 "nbformat": 4,
 "nbformat_minor": 2
}
