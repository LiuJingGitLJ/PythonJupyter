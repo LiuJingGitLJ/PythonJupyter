{
 "cells": [
  {
   "cell_type": "code",
   "execution_count": null,
   "metadata": {},
   "outputs": [],
   "source": [
    "'''\n",
    "将非结构化数据转化为结构化数据\n",
    "\n",
    "情感分析\n",
    "文本相似度\n",
    "文本分类\n",
    "朴素贝叶斯\n",
    "\n",
    "'''\n",
    "'''\n",
    "\n",
    "NLTK\n",
    "\n",
    "自带分类，分词等功能\n",
    "分类：将同一类型的词分为一类\n",
    "分词：将一句话按照语意 分成 一块 一块的部分\n",
    "(\n",
    "将句子拆分成具有语言语意学上意义的词\n",
    "中英文分词区别\n",
    "英文中，单词之间是以空格为自然分界符的\n",
    "中文中没有一个形式的分界符，分词比英文复杂的多\n",
    ")\n",
    "中文分词工具：结巴分词\n",
    "得到分词结果后，中英文的后续处理没有太大的区别\n",
    "语料库：语言的实际使用中真实出现的语言材料\n",
    "\n",
    "'''"
   ]
  },
  {
   "cell_type": "code",
   "execution_count": 2,
   "metadata": {},
   "outputs": [],
   "source": [
    "import nltk"
   ]
  },
  {
   "cell_type": "code",
   "execution_count": 3,
   "metadata": {},
   "outputs": [
    {
     "data": {
      "text/plain": [
       "<LazyModule 'nltk.corpus'>"
      ]
     },
     "execution_count": 3,
     "metadata": {},
     "output_type": "execute_result"
    }
   ],
   "source": [
    "nltk.corpus"
   ]
  }
 ],
 "metadata": {
  "kernelspec": {
   "display_name": "Python 3",
   "language": "python",
   "name": "python3"
  },
  "language_info": {
   "codemirror_mode": {
    "name": "ipython",
    "version": 3
   },
   "file_extension": ".py",
   "mimetype": "text/x-python",
   "name": "python",
   "nbconvert_exporter": "python",
   "pygments_lexer": "ipython3",
   "version": "3.6.4"
  }
 },
 "nbformat": 4,
 "nbformat_minor": 2
}
