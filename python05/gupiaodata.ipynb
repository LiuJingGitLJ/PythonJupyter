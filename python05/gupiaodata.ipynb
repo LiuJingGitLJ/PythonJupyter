{
 "cells": [
  {
   "cell_type": "code",
   "execution_count": null,
   "metadata": {},
   "outputs": [],
   "source": [
    "'''\n",
    "pandas_datareader\n",
    "通过pandas_datareader 获取财经等数据接口提供的数据\n",
    "\n",
    "'''\n",
    "'''\n",
    "1、准备数据\n",
    "2、可视化数据，审查数据\n",
    "3、处理数据（是否需要平稳处理）\n",
    "4、根据ACF，PACF定阶\n",
    "5、拟合ARIMA模型\n",
    "6、预测\n",
    "'''\n",
    "\n",
    "'''\n",
    "提高平稳化：对数\n",
    "过分平稳化 会过度拟合\n",
    "\n",
    "'''\n",
    "'''\n",
    "pandas里面没有ARIMA模型\n",
    "pandas只是做一个数据处理和数据分析，不做机器学习\n",
    "机器学习需要其他的库\n",
    "'''"
   ]
  }
 ],
 "metadata": {
  "kernelspec": {
   "display_name": "Python 3",
   "language": "python",
   "name": "python3"
  },
  "language_info": {
   "codemirror_mode": {
    "name": "ipython",
    "version": 3
   },
   "file_extension": ".py",
   "mimetype": "text/x-python",
   "name": "python",
   "nbconvert_exporter": "python",
   "pygments_lexer": "ipython3",
   "version": "3.6.4"
  }
 },
 "nbformat": 4,
 "nbformat_minor": 2
}
