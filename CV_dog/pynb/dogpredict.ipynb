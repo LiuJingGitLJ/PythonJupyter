{
 "cells": [
  {
   "cell_type": "code",
   "execution_count": 3,
   "metadata": {},
   "outputs": [
    {
     "name": "stdout",
     "output_type": "stream",
     "text": [
      "labels.csv\n",
      "sample_submission.csv\n",
      "test\n",
      "train\n",
      "\n"
     ]
    }
   ],
   "source": [
    "# This Python 3 environment comes with many helpful analytics libraries installed\n",
    "# It is defined by the kaggle/python docker image: https://github.com/kaggle/docker-python\n",
    "# For example, here's several helpful packages to load in \n",
    "\n",
    "import numpy as np # linear algebra\n",
    "import pandas as pd # data processing, CSV file I/O (e.g. pd.read_csv)\n",
    "\n",
    "# Input data files are available in the \"../input/\" directory.\n",
    "# For example, running this (by clicking run or pressing Shift+Enter) will list the files in the input directory\n",
    "\n",
    "from subprocess import check_output\n",
    "print(check_output([\"ls\", \"../input\"]).decode(\"utf8\"))\n",
    "\n",
    "# Any results you write to the current directory are saved as output."
   ]
  },
  {
   "cell_type": "code",
   "execution_count": 4,
   "metadata": {},
   "outputs": [],
   "source": [
    "from glob import glob\n",
    "import matplotlib.pyplot as plt\n",
    "%matplotlib inline\n",
    "import tensorflow as tf\n",
    "\n",
    "labels = pd.read_csv(\"../input/labels.csv\")\n",
    "submi = pd.read_csv(\"../input/sample_submission.csv\")\n",
    "#getting the all the files\n",
    "data = pd.DataFrame([{'path': filepath} for filepath in glob(\"../input/train/*.jpg\")])"
   ]
  },
  {
   "cell_type": "code",
   "execution_count": 5,
   "metadata": {},
   "outputs": [],
   "source": [
    "df = pd.DataFrame()\n",
    "#reading all the files and converting into matrix form\n",
    "df['id'] = pd.DataFrame(data['path'].apply(lambda x : x.split('/')[-1].split('.')[0]))\n",
    "df['value'] = pd.DataFrame(data['path'].apply(lambda x :plt.imread(str(x))))"
   ]
  },
  {
   "cell_type": "code",
   "execution_count": 6,
   "metadata": {},
   "outputs": [
    {
     "data": {
      "text/html": [
       "<div>\n",
       "<style scoped>\n",
       "    .dataframe tbody tr th:only-of-type {\n",
       "        vertical-align: middle;\n",
       "    }\n",
       "\n",
       "    .dataframe tbody tr th {\n",
       "        vertical-align: top;\n",
       "    }\n",
       "\n",
       "    .dataframe thead th {\n",
       "        text-align: right;\n",
       "    }\n",
       "</style>\n",
       "<table border=\"1\" class=\"dataframe\">\n",
       "  <thead>\n",
       "    <tr style=\"text-align: right;\">\n",
       "      <th></th>\n",
       "      <th>id</th>\n",
       "      <th>value</th>\n",
       "    </tr>\n",
       "  </thead>\n",
       "  <tbody>\n",
       "    <tr>\n",
       "      <th>0</th>\n",
       "      <td>84accc2dc9f5bb3ebee89fe1bf23639c</td>\n",
       "      <td>[[[33, 28, 22], [32, 27, 21], [23, 18, 12], [1...</td>\n",
       "    </tr>\n",
       "    <tr>\n",
       "      <th>1</th>\n",
       "      <td>14cffe576239620f1733dfe487dbaa6f</td>\n",
       "      <td>[[[222, 202, 195], [222, 202, 195], [222, 202,...</td>\n",
       "    </tr>\n",
       "    <tr>\n",
       "      <th>2</th>\n",
       "      <td>cc93915e06bc55626a02af95006a48c2</td>\n",
       "      <td>[[[245, 253, 255], [245, 253, 255], [245, 253,...</td>\n",
       "    </tr>\n",
       "    <tr>\n",
       "      <th>3</th>\n",
       "      <td>6f9bac41b5be5ee6baecc9e7ef8f2c2a</td>\n",
       "      <td>[[[99, 140, 196], [99, 140, 196], [99, 140, 19...</td>\n",
       "    </tr>\n",
       "    <tr>\n",
       "      <th>4</th>\n",
       "      <td>64dd586a1d08937d20618233df2e5dbc</td>\n",
       "      <td>[[[135, 145, 137], [139, 149, 141], [144, 154,...</td>\n",
       "    </tr>\n",
       "  </tbody>\n",
       "</table>\n",
       "</div>"
      ],
      "text/plain": [
       "                                 id  \\\n",
       "0  84accc2dc9f5bb3ebee89fe1bf23639c   \n",
       "1  14cffe576239620f1733dfe487dbaa6f   \n",
       "2  cc93915e06bc55626a02af95006a48c2   \n",
       "3  6f9bac41b5be5ee6baecc9e7ef8f2c2a   \n",
       "4  64dd586a1d08937d20618233df2e5dbc   \n",
       "\n",
       "                                               value  \n",
       "0  [[[33, 28, 22], [32, 27, 21], [23, 18, 12], [1...  \n",
       "1  [[[222, 202, 195], [222, 202, 195], [222, 202,...  \n",
       "2  [[[245, 253, 255], [245, 253, 255], [245, 253,...  \n",
       "3  [[[99, 140, 196], [99, 140, 196], [99, 140, 19...  \n",
       "4  [[[135, 145, 137], [139, 149, 141], [144, 154,...  "
      ]
     },
     "execution_count": 6,
     "metadata": {},
     "output_type": "execute_result"
    }
   ],
   "source": [
    "df.head()"
   ]
  },
  {
   "cell_type": "code",
   "execution_count": null,
   "metadata": {},
   "outputs": [],
   "source": [
    "#Getting Breed against Dog id\n",
    "df['Breed'] = None\n",
    "for i in range(len(df['id'])):\n",
    "    df['Breed'].iloc[i] =  labels[labels['id']== df['id'].iloc[i]]['breed'].any()"
   ]
  },
  {
   "cell_type": "code",
   "execution_count": null,
   "metadata": {},
   "outputs": [],
   "source": [
    "df.head()"
   ]
  },
  {
   "cell_type": "code",
   "execution_count": null,
   "metadata": {},
   "outputs": [],
   "source": [
    "plt.figure(figsize=(14,10))\n",
    "a,b = 3,3\n",
    "for i in range(0,(a*b)):\n",
    "    #getting random index\n",
    "    rand_ind = np.random.randint(0,len(df), size= a*b)\n",
    "    plt.subplot(a,b, i+1)\n",
    "    plt.imshow(df['value'].iloc[rand_ind[i]])\n",
    "    plt.title(df['Breed'].iloc[rand_ind[i]])"
   ]
  }
 ],
 "metadata": {
  "kernelspec": {
   "display_name": "Python 3",
   "language": "python",
   "name": "python3"
  },
  "language_info": {
   "codemirror_mode": {
    "name": "ipython",
    "version": 3
   },
   "file_extension": ".py",
   "mimetype": "text/x-python",
   "name": "python",
   "nbconvert_exporter": "python",
   "pygments_lexer": "ipython3",
   "version": "3.6.4"
  }
 },
 "nbformat": 4,
 "nbformat_minor": 2
}
