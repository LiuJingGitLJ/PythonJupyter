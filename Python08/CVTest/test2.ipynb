{
 "cells": [
  {
   "cell_type": "code",
   "execution_count": 1,
   "metadata": {},
   "outputs": [
    {
     "name": "stderr",
     "output_type": "stream",
     "text": [
      "Using TensorFlow backend.\n"
     ]
    },
    {
     "name": "stdout",
     "output_type": "stream",
     "text": [
      "/Users/liujing/Desktop/201736047690.jpg\n"
     ]
    },
    {
     "data": {
      "text/plain": [
       "<matplotlib.figure.Figure at 0x1824917ba8>"
      ]
     },
     "metadata": {},
     "output_type": "display_data"
    },
    {
     "data": {
      "text/plain": [
       "<matplotlib.figure.Figure at 0x18219a4860>"
      ]
     },
     "metadata": {},
     "output_type": "display_data"
    },
    {
     "name": "stdout",
     "output_type": "stream",
     "text": [
      "/Users/liujing/Desktop/5a54724e365b9.jpg\n"
     ]
    },
    {
     "data": {
      "text/plain": [
       "<matplotlib.figure.Figure at 0x182520fdd8>"
      ]
     },
     "metadata": {},
     "output_type": "display_data"
    },
    {
     "data": {
      "text/plain": [
       "<matplotlib.figure.Figure at 0x181d7796a0>"
      ]
     },
     "metadata": {},
     "output_type": "display_data"
    },
    {
     "name": "stdout",
     "output_type": "stream",
     "text": [
      "/Users/liujing/Desktop/5a54724e365b9.jpg\n"
     ]
    },
    {
     "data": {
      "text/plain": [
       "<matplotlib.figure.Figure at 0x18252214a8>"
      ]
     },
     "metadata": {},
     "output_type": "display_data"
    },
    {
     "data": {
      "text/plain": [
       "<matplotlib.figure.Figure at 0x181d7507f0>"
      ]
     },
     "metadata": {},
     "output_type": "display_data"
    },
    {
     "name": "stdout",
     "output_type": "stream",
     "text": [
      "/Users/liujing/Desktop/5a54724e365b9.jpg\n"
     ]
    },
    {
     "data": {
      "text/plain": [
       "<matplotlib.figure.Figure at 0x182b96aef0>"
      ]
     },
     "metadata": {},
     "output_type": "display_data"
    },
    {
     "data": {
      "text/plain": [
       "<matplotlib.figure.Figure at 0x181d74a9e8>"
      ]
     },
     "metadata": {},
     "output_type": "display_data"
    },
    {
     "name": "stdout",
     "output_type": "stream",
     "text": [
      "/Users/liujing/Desktop/5a54724e365b9.jpg\n"
     ]
    },
    {
     "data": {
      "text/plain": [
       "<matplotlib.figure.Figure at 0x18269c1b00>"
      ]
     },
     "metadata": {},
     "output_type": "display_data"
    },
    {
     "data": {
      "text/plain": [
       "<matplotlib.figure.Figure at 0x1832ceab00>"
      ]
     },
     "metadata": {},
     "output_type": "display_data"
    },
    {
     "name": "stdout",
     "output_type": "stream",
     "text": [
      "/Users/liujing/Desktop/mp51629347_1451541365235_1_th.jpeg\n"
     ]
    },
    {
     "data": {
      "text/plain": [
       "<matplotlib.figure.Figure at 0x1832cd7f98>"
      ]
     },
     "metadata": {},
     "output_type": "display_data"
    },
    {
     "data": {
      "text/plain": [
       "<matplotlib.figure.Figure at 0x1832cc9eb8>"
      ]
     },
     "metadata": {},
     "output_type": "display_data"
    },
    {
     "name": "stdout",
     "output_type": "stream",
     "text": [
      "/Users/liujing/Desktop/mp51629347_1451541365235_1_th.jpeg\n"
     ]
    },
    {
     "data": {
      "text/plain": [
       "<matplotlib.figure.Figure at 0x18215f8f28>"
      ]
     },
     "metadata": {},
     "output_type": "display_data"
    },
    {
     "data": {
      "text/plain": [
       "<matplotlib.figure.Figure at 0x181d74a320>"
      ]
     },
     "metadata": {},
     "output_type": "display_data"
    },
    {
     "ename": "SystemExit",
     "evalue": "0",
     "output_type": "error",
     "traceback": [
      "An exception has occurred, use %tb to see the full traceback.\n",
      "\u001b[0;31mSystemExit\u001b[0m\u001b[0;31m:\u001b[0m 0\n"
     ]
    },
    {
     "name": "stderr",
     "output_type": "stream",
     "text": [
      "/anaconda3/lib/python3.6/site-packages/IPython/core/interactiveshell.py:2918: UserWarning: To exit: use 'exit', 'quit', or Ctrl-D.\n",
      "  warn(\"To exit: use 'exit', 'quit', or Ctrl-D.\", stacklevel=1)\n"
     ]
    }
   ],
   "source": [
    "from PyQt5 import QtWidgets\n",
    "from PyQt5.QtWidgets import QFileDialog\n",
    "from PyQt5 import QtCore, QtGui\n",
    "import classify\n",
    "#\n",
    "# import os\n",
    "# os.environ['TF_CPP_MIN_LOG_LEVEL'] = '2'\n",
    "class MyWindow(QtWidgets.QWidget):\n",
    "    def __init__(self):\n",
    "        super(MyWindow, self).__init__()\n",
    "        self.setObjectName(\"widget\")\n",
    "        self.resize(490, 506)\n",
    "        self.setMinimumSize(QtCore.QSize(100, 100))\n",
    "        self.setCursor(QtGui.QCursor(QtCore.Qt.ArrowCursor))\n",
    "        self.gridLayoutWidget = QtWidgets.QWidget(self)\n",
    "        self.gridLayoutWidget.setGeometry(QtCore.QRect(60, 120, 381, 301))\n",
    "        self.gridLayoutWidget.setObjectName(\"gridLayoutWidget\")\n",
    "        self.gridLayout = QtWidgets.QGridLayout(self.gridLayoutWidget)\n",
    "        self.gridLayout.setContentsMargins(0, 0, 0, 0)\n",
    "        self.gridLayout.setObjectName(\"gridLayout\")\n",
    "        self.label = QtWidgets.QLabel(self)\n",
    "        self.label.setGeometry(QtCore.QRect(70, 50, 54, 12))\n",
    "        self.label.setObjectName(\"label\")\n",
    "        self.textEdit = QtWidgets.QTextEdit(self)\n",
    "        self.textEdit.setGeometry(QtCore.QRect(120, 45, 261, 25))\n",
    "        self.textEdit.setObjectName(\"textEdit\")\n",
    "        self.toolButton = QtWidgets.QToolButton(self)\n",
    "        self.toolButton.setGeometry(QtCore.QRect(379, 43, 50, 28))\n",
    "        self.toolButton.setObjectName(\"toolButton\")\n",
    "        self.toolButton.clicked.connect(self.msg)\n",
    "        self.pushButton = QtWidgets.QPushButton(self)\n",
    "        self.pushButton.setGeometry(QtCore.QRect(200, 80, 81, 31))\n",
    "        self.pushButton.setObjectName(\"pushButton\")\n",
    "        self.pushButton.clicked.connect(self.sbing)\n",
    "        #  放图片的label\n",
    "        self.label2 = QtWidgets.QLabel(self)\n",
    "        self.label2.setGeometry(QtCore.QRect(72, 150, 360, 300))\n",
    "        #  参数分别是左上点距左边框宽度，距顶高度，长度，高度\n",
    "        self.label2.setObjectName(\"label2\")\n",
    "\n",
    "        self.retranslateUi(self)\n",
    "        QtCore.QMetaObject.connectSlotsByName(self)\n",
    "\n",
    "    def retranslateUi(self, widget):\n",
    "        _translate = QtCore.QCoreApplication.translate\n",
    "        widget.setWindowTitle(_translate(\"widget\", \"图片识别器\"))\n",
    "        self.label.setText(_translate(\"widget\", \"目标图片\"))\n",
    "        self.toolButton.setText(_translate(\"widget\", \"浏览\"))\n",
    "        self.pushButton.setText(_translate(\"widget\", \"开始识别\"))\n",
    "\n",
    "    def msg(self):\n",
    "        '''directory1 = QFileDialog.getExistingDirectory(self,\n",
    "                                                      \"选取文件夹\",\n",
    "                                                      \"C:/\")  # 起始路径\n",
    "        print(directory1)'''\n",
    "\n",
    "        fileName1, filetype = QFileDialog.getOpenFileName(self,\n",
    "                                                          \"选取文件\",\n",
    "                                                          \"/Users/liujing/DiskD/\",\n",
    "                                                          \"All Files (*);;Text Files (*.txt)\")  # 设置文件扩展名过滤,注意用双分号间隔\n",
    "        #  print(fileName1, filetype)\n",
    "        #  print(fileName1)\n",
    "        '''files, ok1 = QFileDialog.getOpenFileNames(self,\n",
    "                                                  \"多文件选择\",\n",
    "                                                  \"C:/\",\n",
    "                                                  \"All Files (*);;Text Files (*.txt)\")\n",
    "        print(files, ok1)\n",
    "        fileName2, ok2 = QFileDialog.getSaveFileName(self,\n",
    "                                                     \"文件保存\",\n",
    "                                                     \"C:/\",\n",
    "                                                     \"All Files (*);;Text Files (*.txt)\")\n",
    "        '''\n",
    "        png = QtGui.QPixmap(fileName1).scaled(self.label2.width(), self.label2.height())\n",
    "        self.label2.setPixmap(png)\n",
    "        self.textEdit.setText(fileName1)\n",
    "        classify.imgf = fileName1\n",
    "\n",
    "    def sbing(self):\n",
    "        self.pushButton.setText(\"识别中\")\n",
    "        classify.sjsy()\n",
    "        self.pushButton.setText(\"开始识别\")\n",
    "\n",
    "\n",
    "if __name__ == \"__main__\":\n",
    "    import sys\n",
    "\n",
    "    app = QtWidgets.QApplication(sys.argv)\n",
    "    myshow = MyWindow()\n",
    "    myshow.show()\n",
    "    sys.exit(app.exec_())\n",
    "    exit()"
   ]
  }
 ],
 "metadata": {
  "kernelspec": {
   "display_name": "Python 3",
   "language": "python",
   "name": "python3"
  },
  "language_info": {
   "codemirror_mode": {
    "name": "ipython",
    "version": 3
   },
   "file_extension": ".py",
   "mimetype": "text/x-python",
   "name": "python",
   "nbconvert_exporter": "python",
   "pygments_lexer": "ipython3",
   "version": "3.6.4"
  }
 },
 "nbformat": 4,
 "nbformat_minor": 2
}
