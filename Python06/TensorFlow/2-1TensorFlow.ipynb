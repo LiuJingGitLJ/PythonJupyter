{
 "cells": [
  {
   "cell_type": "code",
   "execution_count": 10,
   "metadata": {},
   "outputs": [],
   "source": [
    "import tensorflow as tf"
   ]
  },
  {
   "cell_type": "code",
   "execution_count": 11,
   "metadata": {},
   "outputs": [
    {
     "name": "stdout",
     "output_type": "stream",
     "text": [
      "Tensor(\"MatMul_1:0\", shape=(1, 1), dtype=int32)\n"
     ]
    },
    {
     "data": {
      "text/plain": [
       "'\\n计算需要在会话里面的图中进行\\n若op没有放在会话和图中 ，只是定义了op并没有执行\\n\\n'"
      ]
     },
     "execution_count": 11,
     "metadata": {},
     "output_type": "execute_result"
    }
   ],
   "source": [
    "#创建一个常量op\n",
    "m1 = tf.constant([[3,3]])\n",
    "#创建一个常量\n",
    "m2 = tf.constant([[2],[3]])\n",
    "#创建一个矩阵乘法OP 把m1和m2传入\n",
    "product = tf.matmul(m1,m2)\n",
    "print(product)\n",
    "#结果是一个tensor\n",
    "'''\n",
    "计算需要在会话里面的图中进行\n",
    "若op没有放在会话和图中 ，只是定义了op并没有执行\n",
    "\n",
    "'''"
   ]
  },
  {
   "cell_type": "code",
   "execution_count": 12,
   "metadata": {},
   "outputs": [
    {
     "name": "stdout",
     "output_type": "stream",
     "text": [
      "[[15]]\n"
     ]
    }
   ],
   "source": [
    "'''\n",
    "定义会话之后会有一个默认图，但需要手动启动\n",
    "\n",
    "执行product，调用product的时候，它会继续调用\n",
    "tf的矩阵乘法，会一层一层的往上调用\n",
    "\n",
    "注意：直接打印product 并没有打印\n",
    "        调用run方法才开始打印\n",
    "'''\n",
    "#定义一个会话，启动默认图\n",
    "\n",
    "sess = tf.Session()\n",
    "\n",
    "\n",
    "#调用sess的Run方法来执行矩阵乘法op\n",
    "#run(product)触发了图中的3个op\n",
    "result = sess.run(product)\n",
    "print(result)\n",
    "#关闭会话(3*2+3*3)\n",
    "sess.close()"
   ]
  },
  {
   "cell_type": "code",
   "execution_count": 13,
   "metadata": {},
   "outputs": [
    {
     "name": "stdout",
     "output_type": "stream",
     "text": [
      "[[15]]\n"
     ]
    }
   ],
   "source": [
    "#另一种写法，不需要手动关闭\n",
    "with tf.Session() as sess:\n",
    "    #调用sess的Run方法来执行矩阵乘法op\n",
    "    #run(product)触发了图中的3个op\n",
    "    result = sess.run(product)\n",
    "    print(result)\n",
    "    "
   ]
  }
 ],
 "metadata": {
  "kernelspec": {
   "display_name": "Python 3",
   "language": "python",
   "name": "python3"
  },
  "language_info": {
   "codemirror_mode": {
    "name": "ipython",
    "version": 3
   },
   "file_extension": ".py",
   "mimetype": "text/x-python",
   "name": "python",
   "nbconvert_exporter": "python",
   "pygments_lexer": "ipython3",
   "version": "3.6.4"
  }
 },
 "nbformat": 4,
 "nbformat_minor": 2
}
