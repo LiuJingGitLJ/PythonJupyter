{
 "cells": [
  {
   "cell_type": "code",
   "execution_count": null,
   "metadata": {},
   "outputs": [],
   "source": [
    "'''\n",
    "1、TensorBoard 是 TensorFlow中的可视化的工具\n",
    "可以很方便可视化训练的过程\n",
    "\n",
    "如果要可视化结构的话，要先定义一个命名空间\n",
    "\n",
    "要运行tensorboard 所在的代码才可以准确的看到图形\n",
    "\n",
    "修改完毕代码，先删除旧的logs  文件， 然后重新运行代码 runall start\n",
    "\n",
    "'''"
   ]
  }
 ],
 "metadata": {
  "kernelspec": {
   "display_name": "Python 3",
   "language": "python",
   "name": "python3"
  },
  "language_info": {
   "codemirror_mode": {
    "name": "ipython",
    "version": 3
   },
   "file_extension": ".py",
   "mimetype": "text/x-python",
   "name": "python",
   "nbconvert_exporter": "python",
   "pygments_lexer": "ipython3",
   "version": "3.6.4"
  }
 },
 "nbformat": 4,
 "nbformat_minor": 2
}
