{
 "cells": [
  {
   "cell_type": "code",
   "execution_count": 1,
   "metadata": {},
   "outputs": [],
   "source": [
    "'''\n",
    "\n",
    "1、输入数据\n",
    "2、权重相乘\n",
    "3、隐藏层，做一个softmax\n",
    "4、输出\n",
    "\n",
    "第一步：构建计算流图\n",
    "'''\n",
    "import tensorflow as tf\n",
    "\n",
    "import cv2\n",
    "from tensorflow.examples.tutorials.mnist import input_data"
   ]
  },
  {
   "cell_type": "code",
   "execution_count": 3,
   "metadata": {},
   "outputs": [
    {
     "name": "stdout",
     "output_type": "stream",
     "text": [
      "/anaconda3/lib/python3.6/site-packages/cv2/cv2.cpython-36m-darwin.so\n",
      "Extracting MNIST_data/train-images-idx3-ubyte.gz\n",
      "Extracting MNIST_data/train-labels-idx1-ubyte.gz\n",
      "Extracting MNIST_data/t10k-images-idx3-ubyte.gz\n",
      "Extracting MNIST_data/t10k-labels-idx1-ubyte.gz\n",
      "Download Done!\n"
     ]
    }
   ],
   "source": [
    "print(cv2.__file__)\n",
    "mnist = input_data.read_data_sets(\"MNIST_data/\", one_hot=True)\n",
    "print(\"Download Done!\")"
   ]
  },
  {
   "cell_type": "code",
   "execution_count": 4,
   "metadata": {},
   "outputs": [
    {
     "name": "stdout",
     "output_type": "stream",
     "text": [
      "Datasets(train=<tensorflow.contrib.learn.python.learn.datasets.mnist.DataSet object at 0x1c27d9af60>, validation=<tensorflow.contrib.learn.python.learn.datasets.mnist.DataSet object at 0x1c27d9aeb8>, test=<tensorflow.contrib.learn.python.learn.datasets.mnist.DataSet object at 0x1c27d9af98>)\n"
     ]
    }
   ],
   "source": [
    "print(mnist)"
   ]
  },
  {
   "cell_type": "code",
   "execution_count": 5,
   "metadata": {},
   "outputs": [],
   "source": [
    "'''\n",
    "构建了一个卷积神经网络的图的形式\n",
    "'''\n",
    "\n",
    "#输入占位符，首先对输入有一个占位符 （248*248）784的单通道数据 ，\n",
    "#None因为是batsize的数量是不确定的，784是每一张图图片的像素的数量\n",
    "x = tf.placeholder(tf.float32, [None, 784])\n",
    "\n",
    "# paras W在每10个里面有784个\n",
    "W = tf.Variable(tf.zeros([784, 10]))\n",
    "# b是因为输出有10个\n",
    "b = tf.Variable(tf.zeros([10]))\n",
    "\n",
    "#tf.nn是卷积神经网络的子包 用softmax 做分类\n",
    "y = tf.nn.softmax(tf.matmul(x, W) + b)\n",
    "#训练的时候要输入的结果\n",
    "y_ = tf.placeholder(tf.float32, [None, 10])\n",
    "\n",
    "# loss func 交叉熵的lossfunction\n",
    "cross_entropy = -tf.reduce_sum(y_ * tf.log(y))\n",
    "# 优化器，梯度下降\n",
    "train_step = tf.train.GradientDescentOptimizer(0.01).minimize(cross_entropy)\n",
    "\n"
   ]
  },
  {
   "cell_type": "code",
   "execution_count": 8,
   "metadata": {},
   "outputs": [
    {
     "name": "stdout",
     "output_type": "stream",
     "text": [
      "Accuarcy on Test-dataset:  0.9182\n"
     ]
    }
   ],
   "source": [
    "# init 初始化\n",
    "init = tf.initialize_all_variables()\n",
    "\n",
    "sess = tf.Session()\n",
    "sess.run(init)\n",
    "\n",
    "# train 迭代1000次。每次使用100个样本数据\n",
    "for i in range(1000):\n",
    "    batch_xs, batch_ys = mnist.train.next_batch(100)\n",
    "    #batch_ys\n",
    "    sess.run(train_step, feed_dict={x: batch_xs, y_: batch_ys})\n",
    "    \n",
    "    \n",
    "#传入y和y_\n",
    "correct_prediction = tf.equal(tf.arg_max(y, 1), tf.arg_max(y_, 1))\n",
    "accuracy = tf.reduce_mean(tf.cast(correct_prediction, \"float\"))\n",
    "\n",
    "print(\"Accuarcy on Test-dataset: \", sess.run(accuracy, feed_dict={x: mnist.test.images, y_: mnist.test.labels}))"
   ]
  }
 ],
 "metadata": {
  "kernelspec": {
   "display_name": "Python 3",
   "language": "python",
   "name": "python3"
  },
  "language_info": {
   "codemirror_mode": {
    "name": "ipython",
    "version": 3
   },
   "file_extension": ".py",
   "mimetype": "text/x-python",
   "name": "python",
   "nbconvert_exporter": "python",
   "pygments_lexer": "ipython3",
   "version": "3.6.4"
  }
 },
 "nbformat": 4,
 "nbformat_minor": 2
}
