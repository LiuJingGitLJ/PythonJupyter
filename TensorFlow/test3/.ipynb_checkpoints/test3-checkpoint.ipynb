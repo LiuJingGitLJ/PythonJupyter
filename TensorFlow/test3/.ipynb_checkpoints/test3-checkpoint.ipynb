{
 "cells": [
  {
   "cell_type": "code",
   "execution_count": null,
   "metadata": {},
   "outputs": [],
   "source": [
    "import tensorflow as tf\n",
    "from keras import backend as K\n",
    "from keras.layers import Dense\n",
    "from keras.objectives import categorical_crossentropy\n",
    "from keras.metrics import categorical_accuracy as accuracy\n",
    "from tensorflow.examples.tutorials.mnist import input_data\n",
    "\n",
    "sess = tf.Session()\n",
    "K.set_session(sess)\n",
    "\n",
    "with tf.name_scope('input'):\n",
    "    # this place holder is the same with input layer in keras\n",
    "    img = tf.placeholder(tf.float32, shape=(None, 784))\n",
    "    labels = tf.placeholder(tf.float32, shape=(None, 10))\n",
    "\n",
    "mnist_data = input_data.read_data_sets('MNIST_data', one_hot=True)\n",
    "def feed_dict(train):\n",
    "    if train:\n",
    "        xs, ys = mnist_data.train.next_batch(50)\n",
    "    else:\n",
    "        xs, ys = mnist_data.test.images, mnist_data.test.labels\n",
    "    return {img:xs, labels:ys}\n",
    "\n",
    "\n",
    "# keras layers can be called on tensorflow tensors\n",
    "with tf.name_scope('NN'):\n",
    "    x = Dense(128, activation='relu')(img)\n",
    "    x = Dense(128, activation='relu')(x)\n",
    "    preds = Dense(10, activation='softmax')(x)\n",
    "\n",
    "with tf.name_scope('loss'):\n",
    "    loss = tf.reduce_mean(categorical_crossentropy(labels, preds))\n",
    "# tensorboard\n",
    "writer = tf.summary.FileWriter('./keras_tensorflow_log/')\n",
    "outloss = tf.summary.scalar('loss', loss)\n",
    "merged = tf.summary.merge([outloss])\n",
    "\n",
    "with tf.name_scope('train'):\n",
    "    train_step = tf.train.GradientDescentOptimizer(0.5).minimize(loss)\n",
    "\n",
    "# initialize all variables\n",
    "init_op = tf.global_variables_initializer()\n",
    "sess.run(init_op)\n",
    "\n",
    "with sess.as_default():\n",
    "    for i in range(1000):\n",
    "        summary, loss = sess.run([merged, train_step], \n",
    "                 feed_dict=feed_dict(True))\n",
    "        writer.add_summary(summary, global_step=i)\n",
    "writer.close()  "
   ]
  }
 ],
 "metadata": {
  "kernelspec": {
   "display_name": "Python 3",
   "language": "python",
   "name": "python3"
  },
  "language_info": {
   "codemirror_mode": {
    "name": "ipython",
    "version": 3
   },
   "file_extension": ".py",
   "mimetype": "text/x-python",
   "name": "python",
   "nbconvert_exporter": "python",
   "pygments_lexer": "ipython3",
   "version": "3.6.4"
  }
 },
 "nbformat": 4,
 "nbformat_minor": 2
}
