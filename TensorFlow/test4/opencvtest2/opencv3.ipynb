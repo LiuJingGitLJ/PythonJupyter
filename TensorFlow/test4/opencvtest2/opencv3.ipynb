{
 "cells": [
  {
   "cell_type": "code",
   "execution_count": 3,
   "metadata": {},
   "outputs": [
    {
     "data": {
      "image/png": "[encoded data removed]",
      "text/plain": [
       "<matplotlib.figure.Figure at 0x10c2a6b70>"
      ]
     },
     "metadata": {},
     "output_type": "display_data"
    }
   ],
   "source": [
    "import cv2\n",
    "import numpy as np\n",
    "import matplotlib.pyplot as plt\n",
    "img=cv2.imread('111.png')\n",
    "mask=np.zeros((img.shape[:2]),np.uint8)\n",
    "bgdModel=np.zeros((1,65),np.float64)\n",
    "fgdModel=np.zeros((1,65),np.float64)\n",
    "rect=(81,189,587,1041)\n",
    "#这里计算了5次\n",
    "cv2.grabCut(img,mask,rect,bgdModel,fgdModel,5,cv2.GC_INIT_WITH_RECT)\n",
    "#关于where函数第一个参数是条件，满足条件的话赋值为0，否则是1。如果只有第一个参数的话返回满足条件元素的坐标。\n",
    "mask2=np.where((mask==2)|(mask==0),0,1).astype('uint8')\n",
    "#mask2就是这样固定的\n",
    "plt.subplot(1,2,1)\n",
    "plt.imshow(img)\n",
    "plt.title('original image ')\n",
    "plt.xticks([])\n",
    "plt.yticks([])\n",
    "plt.subplot(1,2,2)\n",
    "#这里的img也是固定的。\n",
    "img=img*mask2[:,:,np.newaxis]\n",
    "plt.imshow(img)\n",
    "plt.title('target image')\n",
    "plt.xticks([])\n",
    "plt.yticks([])\n",
    "plt.show()"
   ]
  }
 ],
 "metadata": {
  "kernelspec": {
   "display_name": "Python 3",
   "language": "python",
   "name": "python3"
  },
  "language_info": {
   "codemirror_mode": {
    "name": "ipython",
    "version": 3
   },
   "file_extension": ".py",
   "mimetype": "text/x-python",
   "name": "python",
   "nbconvert_exporter": "python",
   "pygments_lexer": "ipython3",
   "version": "3.6.4"
  }
 },
 "nbformat": 4,
 "nbformat_minor": 2
}
