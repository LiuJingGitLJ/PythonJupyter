{
 "cells": [
  {
   "cell_type": "code",
   "execution_count": null,
   "metadata": {},
   "outputs": [
    {
     "name": "stdout",
     "output_type": "stream",
     "text": [
      "总共有19物体\n"
     ]
    }
   ],
   "source": [
    "# -*- coding: utf-8 -*-\n",
    "#discrete irregular objects detect and asssign color\n",
    "import cv2\n",
    "import numpy as np\n",
    "from numba import autojit\n",
    "@autojit\n",
    "def thresh_img(img):\n",
    "    if img.ndim==3:\n",
    "        img=cv2.cvtColor(img,cv2.COLOR_BGR2GRAY)\n",
    "    img=cv2.medianBlur(img,3)\n",
    "    _,thresh=cv2.threshold(img,0,255,cv2.THRESH_BINARY_INV+cv2.THRESH_OTSU)\n",
    "    return thresh\n",
    "def label_image(thresh):\n",
    "    h,w=thresh.shape[:2]\n",
    "    _,markers=cv2.connectedComponents(thresh)#返回两个值，一个是label总个数，一个是label后的矩阵吧\n",
    "    objects_total_number=np.max(markers)\n",
    "    print(\"总共有%g物体\"%objects_total_number)\n",
    "    center_pts=[]\n",
    "    for i in range(1,objects_total_number):\n",
    "        temp=[[j,i] for i,j in zip(*np.where(markers==i))]\n",
    "        mean_pts=np.mean(temp,0)\n",
    "        center_pts.append([np.float32(mean_pts[0]),np.float32(mean_pts[1])])\n",
    "    return markers,center_pts\n",
    "def gray_to_bgr_image(markers,center_pts):\n",
    "    h,w=markers.shape[:2]\n",
    "    hue_markers = np.uint8(179*np.float32(markers)/np.max(markers))\n",
    "    blank_channel = 255*np.ones((h, w), dtype=np.uint8)\n",
    "    marker_img = cv2.merge([hue_markers, blank_channel-50, blank_channel])\n",
    "    marker_img = cv2.cvtColor(marker_img, cv2.COLOR_HSV2BGR)\n",
    "    i=1\n",
    "    for pt in center_pts:\n",
    "        cv2.putText(marker_img,\"%s\"%str(i),(pt[0],pt[1]),cv2.FONT_HERSHEY_SIMPLEX,0.5,[0,0,0],2)\n",
    "        i+=1\n",
    "    cv2.putText(marker_img,\"objects number is:%g\"%i,(20,10),cv2.FONT_HERSHEY_SIMPLEX,0.5,[0,0,0],2)\n",
    "    cv2.imshow('Colored markers', marker_img)\n",
    "    cv2.waitKey(0)\n",
    "if __name__==\"__main__\":\n",
    "    im=cv2.imread(r'111.png')\n",
    "    thresh=thresh_img(im)\n",
    "    markers,center_pts=label_image(thresh)\n",
    "    gray_to_bgr_image(markers,center_pts)"
   ]
  }
 ],
 "metadata": {
  "kernelspec": {
   "display_name": "Python 3",
   "language": "python",
   "name": "python3"
  },
  "language_info": {
   "codemirror_mode": {
    "name": "ipython",
    "version": 3
   },
   "file_extension": ".py",
   "mimetype": "text/x-python",
   "name": "python",
   "nbconvert_exporter": "python",
   "pygments_lexer": "ipython3",
   "version": "3.6.4"
  }
 },
 "nbformat": 4,
 "nbformat_minor": 2
}
