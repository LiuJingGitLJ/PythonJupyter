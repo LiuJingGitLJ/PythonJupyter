{
 "cells": [
  {
   "cell_type": "code",
   "execution_count": 3,
   "metadata": {},
   "outputs": [
    {
     "name": "stdout",
     "output_type": "stream",
     "text": [
      "视频中有人！！\n"
     ]
    }
   ],
   "source": [
    "# -*- coding: utf-8 -*-\n",
    "'''\n",
    "通过程序检测视频中的人脸个数\n",
    "'''\n",
    "import cv2\n",
    "import sys\n",
    "from PIL import Image\n",
    "\n",
    "\n",
    "def CatchUsbVideo(window_name, camera_idx):\n",
    "    cv2.namedWindow(window_name)\n",
    "    # 视频来源，可以来自一段已存好的视频，也可以直接来自USB摄像头\n",
    "    cap = cv2.VideoCapture(camera_idx)\n",
    "\n",
    "    # 告诉OpenCV使用人脸识别分类器\n",
    "    classfier = cv2.CascadeClassifier(\"/usr/local/opt/opencv@3/share/OpenCV/haarcascades/haarcascade_frontalface_alt.xml\")\n",
    "\n",
    "    # 识别出人脸后要画的边框的颜色，RGB格式\n",
    "    color = (0, 255, 0)\n",
    "    count=0\n",
    "    while cap.isOpened():\n",
    "        ok, frame = cap.read()  # 读取一帧数据\n",
    "        if not ok:\n",
    "            break\n",
    "            # 将当前帧转换成灰度图像\n",
    "        grey = cv2.cvtColor(frame, cv2.COLOR_BGR2GRAY)\n",
    "\n",
    "        # 人脸检测，1.2和2分别为图片缩放比例和需要检测的有效点数\n",
    "        faceRects = classfier.detectMultiScale(grey, scaleFactor=1.2, minNeighbors=3, minSize=(32, 32))\n",
    "        if len(faceRects) > 0:  # 大于0则检测到人脸\n",
    "           count=count+1\n",
    "    return count\n",
    "\n",
    "if __name__ == '__main__':\n",
    "    result=CatchUsbVideo(\"识别人脸区域\", 'shiping1.mov')\n",
    "    if result>0:\n",
    "        print('视频中有人！！')\n",
    "    else:\n",
    "        print('视频中无人！！')"
   ]
  }
 ],
 "metadata": {
  "kernelspec": {
   "display_name": "Python 3",
   "language": "python",
   "name": "python3"
  },
  "language_info": {
   "codemirror_mode": {
    "name": "ipython",
    "version": 3
   },
   "file_extension": ".py",
   "mimetype": "text/x-python",
   "name": "python",
   "nbconvert_exporter": "python",
   "pygments_lexer": "ipython3",
   "version": "3.6.4"
  }
 },
 "nbformat": 4,
 "nbformat_minor": 2
}
