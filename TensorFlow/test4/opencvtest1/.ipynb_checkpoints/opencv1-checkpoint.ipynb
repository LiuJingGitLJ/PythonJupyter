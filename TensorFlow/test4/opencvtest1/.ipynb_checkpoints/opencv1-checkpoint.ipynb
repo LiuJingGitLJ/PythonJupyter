{
 "cells": [
  {
   "cell_type": "code",
   "execution_count": null,
   "metadata": {},
   "outputs": [],
   "source": [
    "import cv2\n",
    "import numpy as np\n",
    "camera=cv2.VideoCapture(0)\n",
    "firstframe=None\n",
    "while True:\n",
    "\tret,frame = camera.read()\n",
    "\tif not ret:\n",
    "\t\tbreak\n",
    "\tgray=cv2.cvtColor(frame,cv2.COLOR_BGR2GRAY)\n",
    "\tgray=cv2.GaussianBlur(gray,(21,21),0)\n",
    "\tif firstframe is None:\n",
    "\t\tfirstframe=gray\n",
    "\t\tcontinue\n",
    "\t\n",
    "\tframeDelta = cv2.absdiff(firstframe,gray)\n",
    "\tthresh = cv2.threshold(frameDelta, 25, 255, cv2.THRESH_BINARY)[1]\n",
    "\tthresh = cv2.dilate(thresh, None, iterations=2)\n",
    "\t# cnts= cv2.findContours(thresh.copy(),cv2.RETR_EXTERNAL,cv2.CHAIN_APPROX_SIMPLE)\n",
    "\t\n",
    "\tx,y,w,h=cv2.boundingRect(thresh)\n",
    "\tframe=cv2.rectangle(frame,(x,y),(x+w,y+h),(0,0,255),2)\n",
    "\tcv2.imshow(\"frame\", frame)\n",
    "\tcv2.imshow(\"Thresh\", thresh)\n",
    "\tcv2.imshow(\"frame2\", frameDelta)\n",
    "\tkey = cv2.waitKey(1)&0xFF\n",
    "\t\n",
    "\tif key == ord(\"q\"):\n",
    "\t\tbreak\n",
    " \n",
    "# camera.release()\n",
    "cv2.destroyAllWindows()"
   ]
  }
 ],
 "metadata": {
  "kernelspec": {
   "display_name": "Python 3",
   "language": "python",
   "name": "python3"
  },
  "language_info": {
   "codemirror_mode": {
    "name": "ipython",
    "version": 3
   },
   "file_extension": ".py",
   "mimetype": "text/x-python",
   "name": "python",
   "nbconvert_exporter": "python",
   "pygments_lexer": "ipython3",
   "version": "3.6.4"
  }
 },
 "nbformat": 4,
 "nbformat_minor": 2
}
