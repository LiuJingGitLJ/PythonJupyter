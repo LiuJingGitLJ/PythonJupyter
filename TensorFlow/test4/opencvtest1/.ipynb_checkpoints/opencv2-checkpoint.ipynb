{
 "cells": [
  {
   "cell_type": "code",
   "execution_count": null,
   "metadata": {},
   "outputs": [
    {
     "name": "stdout",
     "output_type": "stream",
     "text": [
      "Open\n",
      "size:(1280, 720)\n"
     ]
    }
   ],
   "source": [
    "import cv2\n",
    "import numpy as np\n",
    "\n",
    "camera = cv2.VideoCapture(0) # 参数0表示第一个摄像头\n",
    "# 判断视频是否打开\n",
    "if (camera.isOpened()):\n",
    "    print('Open')\n",
    "else:\n",
    "    print('摄像头未打开')\n",
    "\n",
    "# 测试用,查看视频size\n",
    "size = (int(camera.get(cv2.CAP_PROP_FRAME_WIDTH)),\n",
    "        int(camera.get(cv2.CAP_PROP_FRAME_HEIGHT)))\n",
    "print('size:'+repr(size))\n",
    "\n",
    "es = cv2.getStructuringElement(cv2.MORPH_ELLIPSE, (9, 4))\n",
    "kernel = np.ones((5, 5), np.uint8)\n",
    "background = None\n",
    "\n",
    "while True:\n",
    "    # 读取视频流\n",
    "    grabbed, frame_lwpCV = camera.read()\n",
    "    # 对帧进行预处理，先转灰度图，再进行高斯滤波。\n",
    "    # 用高斯滤波进行模糊处理，进行处理的原因：每个输入的视频都会因自然震动、光照变化或者摄像头本身等原因而产生噪声。对噪声进行平滑是为了避免在运动和跟踪时将其检测出来。\n",
    "    gray_lwpCV = cv2.cvtColor(frame_lwpCV, cv2.COLOR_BGR2GRAY)\n",
    "    gray_lwpCV = cv2.GaussianBlur(gray_lwpCV, (21, 21), 0)\n",
    "\n",
    "    # 将第一帧设置为整个输入的背景\n",
    "    if background is None:\n",
    "        background = gray_lwpCV\n",
    "        continue\n",
    "    # 对于每个从背景之后读取的帧都会计算其与北京之间的差异，并得到一个差分图（different map）。\n",
    "    # 还需要应用阈值来得到一幅黑白图像，并通过下面代码来膨胀（dilate）图像，从而对孔（hole）和缺陷（imperfection）进行归一化处理\n",
    "    diff = cv2.absdiff(background, gray_lwpCV)\n",
    "    diff = cv2.threshold(diff, 25, 255, cv2.THRESH_BINARY)[1] # 二值化阈值处理\n",
    "    diff = cv2.dilate(diff, es, iterations=2) # 形态学膨胀\n",
    "\n",
    "    # 显示矩形框\n",
    "    image, contours, hierarchy = cv2.findContours(diff.copy(), cv2.RETR_EXTERNAL, cv2.CHAIN_APPROX_SIMPLE) # 该函数计算一幅图像中目标的轮廓\n",
    "    for c in contours:\n",
    "        if cv2.contourArea(c) < 1500: # 对于矩形区域，只显示大于给定阈值的轮廓，所以一些微小的变化不会显示。对于光照不变和噪声低的摄像头可不设定轮廓最小尺寸的阈值\n",
    "            continue\n",
    "        (x, y, w, h) = cv2.boundingRect(c) # 该函数计算矩形的边界框\n",
    "        cv2.rectangle(frame_lwpCV, (x, y), (x+w, y+h), (0, 255, 0), 2)\n",
    "\n",
    "    cv2.imshow('contours', frame_lwpCV)\n",
    "    cv2.imshow('dis', diff)\n",
    "\n",
    "    key = cv2.waitKey(1) & 0xFF\n",
    "    # 按'q'健退出循环\n",
    "    if key == ord('q'):\n",
    "        break\n",
    "# When everything done, release the capture\n",
    "camera.release()\n",
    "cv2.destroyAllWindows()"
   ]
  }
 ],
 "metadata": {
  "kernelspec": {
   "display_name": "Python 3",
   "language": "python",
   "name": "python3"
  },
  "language_info": {
   "codemirror_mode": {
    "name": "ipython",
    "version": 3
   },
   "file_extension": ".py",
   "mimetype": "text/x-python",
   "name": "python",
   "nbconvert_exporter": "python",
   "pygments_lexer": "ipython3",
   "version": "3.6.4"
  }
 },
 "nbformat": 4,
 "nbformat_minor": 2
}
