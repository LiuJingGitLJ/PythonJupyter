{
 "cells": [
  {
   "cell_type": "code",
   "execution_count": null,
   "metadata": {},
   "outputs": [],
   "source": [
    "# -*- coding: utf-8 -*-\n",
    "\"\"\"\n",
    "Created on Fri Jun 30 23:53:56 2017\n",
    "\n",
    "@author: zhangxu\n",
    "\"\"\"\n",
    "import tensorflow as tf \n",
    "from PIL import Image  \n",
    "import matplotlib.pyplot as plt\n",
    "\n",
    "#写入图片路径\n",
    "swd = 'F:\\\\flowersdata\\\\show\\\\'\n",
    "#TFRecord文件路径\n",
    "data_path = 'F:\\\\flowersdata\\\\tfrecord\\\\traindata.tfrecords-003'\n",
    "# 获取文件名列表\n",
    "data_files = tf.gfile.Glob(data_path)\n",
    "print(data_files)\n",
    "# 文件名列表生成器\n",
    "\n",
    "filename_queue = tf.train.string_input_producer(data_files,shuffle=True) \n",
    "reader = tf.TFRecordReader()\n",
    "_, serialized_example = reader.read(filename_queue)   #返回文件名和文件\n",
    "features = tf.parse_single_example(serialized_example,\n",
    "                                   features={\n",
    "                                       'label': tf.FixedLenFeature([], tf.int64),\n",
    "                                       'img_raw' : tf.FixedLenFeature([], tf.string),\n",
    "                                       'img_width': tf.FixedLenFeature([], tf.int64),\n",
    "                                       'img_height': tf.FixedLenFeature([], tf.int64),\n",
    "                                   })  #取出包含image和label的feature对象\n",
    "#tf.decode_raw可以将字符串解析成图像对应的像素数组\n",
    "image = tf.decode_raw(features['img_raw'], tf.uint8)\n",
    "height = tf.cast(features['img_height'],tf.int32)\n",
    "width = tf.cast(features['img_width'],tf.int32)\n",
    "label = tf.cast(features['label'], tf.int32)\n",
    "channel = 3\n",
    "image = tf.reshape(image, [height,width,channel])\n",
    "\n",
    "\n",
    "with tf.Session() as sess: #开始一个会话\n",
    "    init_op = tf.initialize_all_variables()\n",
    "    sess.run(init_op)\n",
    "    #启动多线程\n",
    "    coord=tf.train.Coordinator()\n",
    "    threads= tf.train.start_queue_runners(coord=coord)\n",
    "    for i in range(15):\n",
    "        #image_down = np.asarray(image_down.eval(), dtype='uint8')\n",
    "        plt.imshow(image.eval())\n",
    "        plt.show()\n",
    "        single,l = sess.run([image,label])#在会话中取出image和label\n",
    "        img=Image.fromarray(single, 'RGB')#这里Image是之前提到的\n",
    "        img.save(swd+str(i)+'_''Label_'+str(l)+'.jpg')#存下图片\n",
    "        #print(single,l)\n",
    "    coord.request_stop()\n",
    "    coord.join(threads)\n"
   ]
  }
 ],
 "metadata": {
  "kernelspec": {
   "display_name": "Python 3",
   "language": "python",
   "name": "python3"
  },
  "language_info": {
   "codemirror_mode": {
    "name": "ipython",
    "version": 3
   },
   "file_extension": ".py",
   "mimetype": "text/x-python",
   "name": "python",
   "nbconvert_exporter": "python",
   "pygments_lexer": "ipython3",
   "version": "3.6.4"
  }
 },
 "nbformat": 4,
 "nbformat_minor": 2
}
